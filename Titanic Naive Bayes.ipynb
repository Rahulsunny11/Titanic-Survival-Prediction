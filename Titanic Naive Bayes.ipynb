{
 "cells": [
  {
   "cell_type": "code",
   "execution_count": 4,
   "metadata": {},
   "outputs": [
    {
     "name": "stdout",
     "output_type": "stream",
     "text": [
      "<class 'pandas.core.frame.DataFrame'>\n",
      "RangeIndex: 891 entries, 0 to 890\n",
      "Data columns (total 8 columns):\n",
      "Survived    891 non-null int64\n",
      "Pclass      891 non-null int64\n",
      "Sex         891 non-null int64\n",
      "Age         891 non-null float64\n",
      "SibSp       891 non-null int64\n",
      "Parch       891 non-null int64\n",
      "Fare        891 non-null float64\n",
      "Embarked    891 non-null int64\n",
      "dtypes: float64(2), int64(6)\n",
      "memory usage: 55.8 KB\n"
     ]
    },
    {
     "data": {
      "text/plain": [
       "79.46"
      ]
     },
     "execution_count": 4,
     "metadata": {},
     "output_type": "execute_result"
    },
    {
     "data": {
      "image/png": "[encoded data removed]",
      "text/plain": [
       "<Figure size 432x288 with 3 Axes>"
      ]
     },
     "metadata": {
      "needs_background": "light"
     },
     "output_type": "display_data"
    }
   ],
   "source": [
    "import numpy as np\n",
    "import pandas as pd\n",
    "import matplotlib.pyplot as plt\n",
    "import seaborn as sns\n",
    "from sklearn.naive_bayes import GaussianNB\n",
    "\n",
    "train_df = pd.read_csv(r'F:\\Datasets\\titanic\\train.csv')\n",
    "test_file = r'F:\\Datasets\\titanic\\test.csv'\n",
    "test_df = pd.read_csv(test_file)\n",
    "train_df.head()\n",
    "test_df.head()\n",
    "\n",
    "#checking for na values\n",
    "train_df[train_df['Embarked'].isna()]\n",
    "\n",
    "#filling na values intrain data\n",
    "train_df['Embarked'].fillna(value = 'C', inplace = True)\n",
    "train_df['Sex'].replace({'male':0,'female':1}, inplace=True)\n",
    "train_df['Embarked'].replace({'S':0,'C':1,'Q':2}, inplace=True)\n",
    "train_df['Age'].fillna((train_df['Age'].mean()), inplace = True)\n",
    "train_df.drop(['Cabin', 'PassengerId', 'Name', 'Ticket'], axis = 1, inplace = True)\n",
    "\n",
    "train_df.head()\n",
    "\n",
    "#vizualising for null values in train data\n",
    "sns.heatmap(train_df.isnull())\n",
    "\n",
    "#data processing in test data\n",
    "test_df.fillna(test_df['Age'].mean(), inplace = True)\n",
    "test_df.drop(['PassengerId', 'Name', 'Ticket', 'Cabin'], axis = 1, inplace=True)\n",
    "test_df['Sex'].unique()\n",
    "test_df['Embarked'].unique()\n",
    "test_df['Sex'].replace({'male':0, 'female':1}, inplace= True)\n",
    "test_df['Embarked'].replace({'Q':0,'S':1,'C':2}, inplace =True)\n",
    "\n",
    "#Vizualising for missing values in testdata\n",
    "sns.heatmap(test_df.isnull())\n",
    "\n",
    "train_df.info()\n",
    "test_df.info\n",
    "\n",
    "#proceesing the data to train and test\n",
    "x_train = train_df.drop(['Survived'], axis = 1)\n",
    "y_train = train_df['Survived']\n",
    "x_test = test_df\n",
    "\n",
    "#finding shape of x_train, x_test, y_train\n",
    "x_train.shape, y_train.shape, x_test.shape\n",
    "\n",
    "# Gaussian Naive Bayes\n",
    "gaussian = GaussianNB()\n",
    "gaussian.fit(x_train, y_train)\n",
    "Y_pred = gaussian.predict(x_test)\n",
    "acc_gaussian = round(gaussian.score(x_train, y_train) * 100, 2)\n",
    "acc_gaussian"
   ]
  },
  {
   "cell_type": "code",
   "execution_count": null,
   "metadata": {},
   "outputs": [],
   "source": []
  }
 ],
 "metadata": {
  "kernelspec": {
   "display_name": "Python 3",
   "language": "python",
   "name": "python3"
  },
  "language_info": {
   "codemirror_mode": {
    "name": "ipython",
    "version": 3
   },
   "file_extension": ".py",
   "mimetype": "text/x-python",
   "name": "python",
   "nbconvert_exporter": "python",
   "pygments_lexer": "ipython3",
   "version": "3.7.4"
  }
 },
 "nbformat": 4,
 "nbformat_minor": 2
}
